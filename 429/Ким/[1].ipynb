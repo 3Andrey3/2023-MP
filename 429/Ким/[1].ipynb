{
 "cells": [
  {
   "cell_type": "code",
   "execution_count": 174,
   "id": "d9d82abe",
   "metadata": {},
   "outputs": [],
   "source": [
    "import datetime\n",
    "import queue\n",
    "\n",
    "my_data = (\"Ким\",\"Александр\", 11,11,1111)\n",
    "disk_marks={\n",
    "    \"Мемология\": 100,\n",
    "    \"Аниматика\": 100,\n",
    "    \"Колдовство\": 78,\n",
    "    \"Заговоры\": 54,\n",
    "    \"Фехтование\": 43,\n",
    "    \"Бальные танцы\": 86,\n",
    "    \"Капитал\": 23,\n",
    "    \"Песнь люда и пламени\": 64,\n",
    "    \"Третий закон\": 86,\n",
    "    \"Шаманство\": 45,\n",
    "    'Химия ( ͡° ͜ʖ ͡°)': 56,\n",
    "    \"Экология\": 12,\n",
    "    \"История КПСС\": 63,\n",
    "    \"История НСДАП\": 76\n",
    "    }\n",
    "family_names=['Sany ','Dimon','Dimon','Lexa','Vany','Galy','Petrovich','Migera','Galy']\n",
    "kiwa_name = 'Bomjara'"
   ]
  },
  {
   "cell_type": "code",
   "execution_count": 9,
   "id": "3a01b82d",
   "metadata": {},
   "outputs": [
    {
     "name": "stdout",
     "output_type": "stream",
     "text": [
      "63.285714285714285\n"
     ]
    }
   ],
   "source": [
    "sum_1=sum(disk_marks.values())/len(disk_marks)\n",
    "print(sum_1)"
   ]
  },
  {
   "cell_type": "code",
   "execution_count": 16,
   "id": "f86b6588",
   "metadata": {},
   "outputs": [
    {
     "name": "stdout",
     "output_type": "stream",
     "text": [
      "['Александр', 'Sany ', 'Dimon', 'Lexa', 'Vany', 'Galy', 'Petrovich', 'Migera']\n"
     ]
    }
   ],
   "source": [
    "unic_name=[my_data[1]]\n",
    "for name in family_names:\n",
    "    if name in unic_name:\n",
    "        continue\n",
    "    unic_name.append(name)\n",
    "print (unic_name)"
   ]
  },
  {
   "cell_type": "code",
   "execution_count": 11,
   "id": "96a29936",
   "metadata": {},
   "outputs": [
    {
     "name": "stdout",
     "output_type": "stream",
     "text": [
      "147\n"
     ]
    }
   ],
   "source": [
    "len_all_subject=0\n",
    "for element in disk_marks:\n",
    "    len_all_subject+=len(element)\n",
    "print(len_all_subject)"
   ]
  },
  {
   "cell_type": "code",
   "execution_count": 39,
   "id": "8d83f3af",
   "metadata": {},
   "outputs": [
    {
     "name": "stdout",
     "output_type": "stream",
     "text": [
      "['М', 'е', 'м', 'о', 'л', 'г', 'и', 'я', 'А', 'н', 'а', 'т', 'к', 'К', 'д', 'в', 'с', 'З', 'р', 'ы', 'Ф', 'х', 'Б', 'ь', ' ', 'ц', 'п', 'П', 'ю', 'Т', 'й', 'з', 'Ш', 'Х', '(', '͡', '°', '͜', 'ʖ', ')', 'Э', 'И', 'С', 'Н', 'Д']\n"
     ]
    }
   ],
   "source": [
    "unic_letter=[]\n",
    "for element in disk_marks:\n",
    "    for letter in range (0,len(element)):\n",
    "        if element[letter] in unic_letter:\n",
    "            continue\n",
    "        unic_letter.append(element[letter])\n",
    "print (unic_letter)"
   ]
  },
  {
   "cell_type": "code",
   "execution_count": 31,
   "id": "3a82bd4c",
   "metadata": {},
   "outputs": [
    {
     "name": "stdout",
     "output_type": "stream",
     "text": [
      "0b1000010 0b1101111 0b1101101 0b1101010 0b1100001 0b1110010 0b1100001 "
     ]
    }
   ],
   "source": [
    "for letter in range(0,len(kiwa_name)):\n",
    "    print(bin(ord(kiwa_name[letter])),end=' ')\n",
    "\n"
   ]
  },
  {
   "cell_type": "code",
   "execution_count": 36,
   "id": "6cff94d6",
   "metadata": {},
   "outputs": [
    {
     "name": "stdout",
     "output_type": "stream",
     "text": [
      "1040 1072 1041 1073 1042 1074 1043 1075 1071 1103 "
     ]
    }
   ],
   "source": [
    "alf=['А',\"а\",\"Б\",\"б\",\"В\",\"в\",\"Г\",\"г\",\"Я\",\"я\"]\n",
    "for i in range (0,len(alf)):\n",
    "    print(ord(alf[i]),end=' ')"
   ]
  },
  {
   "cell_type": "code",
   "execution_count": 32,
   "id": "afa99118",
   "metadata": {},
   "outputs": [
    {
     "name": "stdout",
     "output_type": "stream",
     "text": [
      "['Аниматика', 'Бальные танцы', 'Заговоры', 'История КПСС', 'История НСДАП', 'Колдовство', 'Капитал', 'Мемология', 'Песнь люда и пламени', 'Третий закон', 'Фехтование', 'Химия ( ͡° ͜ʖ ͡°)', 'Шаманство', 'Экология']\n",
      "\n",
      "['Экология', 'Шаманство', 'Химия ( ͡° ͜ʖ ͡°)', 'Фехтование', 'Третий закон', 'Песнь люда и пламени', 'Мемология', 'Колдовство', 'Капитал', 'История КПСС', 'История НСДАП', 'Заговоры', 'Бальные танцы', 'Аниматика']\n"
     ]
    }
   ],
   "source": [
    "temp=[]\n",
    "for element in disk_marks:\n",
    "    temp.append(element)\n",
    "temp_numbers=[0]*len(temp)\n",
    "sort_sub=[]\n",
    "for i in range(0,len(temp)):\n",
    "    for j in range(0,len(temp)):\n",
    "        if (i!=j):\n",
    "            if (ord(temp[i][0])>ord(temp[j][0])):\n",
    "                temp_numbers[i]+=1\n",
    "for i in range(0,max(temp_numbers)+1):\n",
    "    for j in range(0,len(temp_numbers)):\n",
    "        if (temp_numbers[j]==i):\n",
    "            sort_sub.append(temp[j])\n",
    "print(sort_sub)\n",
    "print()\n",
    "sort_sub_reverse=[]\n",
    "for i in range(0,max(temp_numbers)+1):\n",
    "    for j in range(0,len(temp_numbers)):\n",
    "        if (temp_numbers[j]==max(temp_numbers)-i):\n",
    "            sort_sub_reverse.append(temp[j])\n",
    "print(sort_sub_reverse)"
   ]
  },
  {
   "cell_type": "code",
   "execution_count": 8,
   "id": "63e09fb9",
   "metadata": {},
   "outputs": [
    {
     "name": "stdout",
     "output_type": "stream",
     "text": [
      "332893\n"
     ]
    }
   ],
   "source": [
    "today = datetime.datetime.today()\n",
    "my_bday = datetime.datetime(day=my_data[2],\n",
    "                            month=my_data[3],\n",
    "                            year=my_data[4])\n",
    "print((today - my_bday).days)"
   ]
  },
  {
   "cell_type": "code",
   "execution_count": 24,
   "id": "1cef4e26",
   "metadata": {},
   "outputs": [
    {
     "name": "stdout",
     "output_type": "stream",
     "text": [
      "Для завершения ввода напишит 'end'. \n",
      "Пдается на вход: das\n",
      "fgd\n",
      "few\n",
      "jgf\n",
      "32\n",
      "524\n",
      "574\n",
      "12\n",
      "1,3\n",
      "1.54\n",
      "end\n",
      "das ;  fgd;  few;  jgf;  32;  524;  574;  12;  1,3;  1.54.\n"
     ]
    }
   ],
   "source": [
    "stuff  = queue.Queue(101)\n",
    "\n",
    "print(\"Для завершения ввода напишит 'end'. \")\n",
    "\n",
    "i = (input('Пдается на вход: '))\n",
    "while i!='end':\n",
    "    stuff.put(i)\n",
    "    i = (input())\n",
    "print(stuff.get(),end=' ')\n",
    "while not stuff.empty():\n",
    "    print('; ',stuff.get(),end='')\n",
    "print('.')"
   ]
  },
  {
   "cell_type": "code",
   "execution_count": 26,
   "id": "786f02a6",
   "metadata": {},
   "outputs": [
    {
     "name": "stdout",
     "output_type": "stream",
     "text": [
      "5\n"
     ]
    }
   ],
   "source": [
    "print((my_data[2] + my_data[3]**2 + my_data[4]) % 21 + 1)"
   ]
  },
  {
   "cell_type": "code",
   "execution_count": 38,
   "id": "decfde6d",
   "metadata": {},
   "outputs": [
    {
     "name": "stdout",
     "output_type": "stream",
     "text": [
      "['Dimon', 'Dimon', 'Galy', 'Galy', 'Lexa', 'Migera', 'Petrovich', 'Sany ', 'Vany']\n",
      "Введите номер в списке родственников, которого вы променяете на Ацтекского правителя: 3\n",
      "['Dimon', 'Dimon', 'Galy', 'Xihuitl Temoc', 'Lexa', 'Migera', 'Petrovich', 'Sany ', 'Vany']\n"
     ]
    }
   ],
   "source": [
    "temp=[]\n",
    "for element in family_names:\n",
    "    temp.append(element)\n",
    "temp_numbers=[0]*len(temp)\n",
    "sort_name=[]\n",
    "for i in range(0,len(temp)):\n",
    "    for j in range(0,len(temp)):\n",
    "        if (i!=j):\n",
    "            if (ord(temp[i][0])>ord(temp[j][0])):\n",
    "                temp_numbers[i]+=1\n",
    "for i in range(0,max(temp_numbers)+1):\n",
    "    for j in range(0,len(temp_numbers)):\n",
    "        if (temp_numbers[j]==i):\n",
    "            sort_name.append(temp[j])\n",
    "print(sort_name)\n",
    "\n",
    "i=int(input('Введите номер в списке родственников, которого вы променяете на Ацтекского правителя: '))\n",
    "sort_name[i]='Xihuitl Temoc'\n",
    "print(sort_name)"
   ]
  },
  {
   "cell_type": "code",
   "execution_count": 171,
   "id": "ddcb1429",
   "metadata": {},
   "outputs": [],
   "source": [
    "class KotbI_v_korobke:\n",
    "    def __init__(self):\n",
    "        self.content=[[],[],[]]\n",
    "    def append(self,name,data,next='-'):\n",
    "        if (next=='-'):\n",
    "            next=len(self.content[2])+1\n",
    "        for i in range (0,len(self.content[2])):\n",
    "            if next==self.content[2][i]:\n",
    "                print('EROR! File is not append!')\n",
    "                return(None)\n",
    "        self.content[0].append(name)\n",
    "        self.content[1].append(data)\n",
    "        self.content[2].append(next)\n",
    "    def print_kotiki(self,ind):\n",
    "        temp=ind\n",
    "        while (temp<len(self.content[0])):\n",
    "            print(self.content[0][temp], end=' ')\n",
    "            if (self.content[2][temp]==\"end\"):\n",
    "                break\n",
    "            temp=self.content[2][temp]\n",
    "        print()\n",
    "    def sort(self):\n",
    "        temp=[0]*len(self.content[1])\n",
    "        for j in range(0,len(self.content[1])):\n",
    "            for i in range(0,len(self.content[1])):\n",
    "                if (self.content[1][j]>self.content[1][i]):\n",
    "                    temp[j]+=1\n",
    "#        print(temp)\n",
    "#        print(self.content[2])\n",
    "        for i in range(0,len(self.content[1])):\n",
    "            for j in range(0,len(self.content[1])):\n",
    "#                print(temp[i]-temp[j],' ',i,' - ',j)\n",
    "                if (temp[i]-temp[j]==1) and (i!=j):\n",
    "                    self.content[2][j]=i\n",
    "        last=0\n",
    "        for i in range(0,len(self.content[1])):\n",
    "            if (temp[i]>temp[last]):\n",
    "                last=i\n",
    "        self.content[2][last]=len(self.content[1])\n",
    "#        print(self.content[2])"
   ]
  },
  {
   "cell_type": "code",
   "execution_count": 172,
   "id": "89810667",
   "metadata": {},
   "outputs": [
    {
     "name": "stdout",
     "output_type": "stream",
     "text": [
      "E Mi Ti Ko Ki - LbI \n",
      "\n",
      "Ko Ti Ki - Mi LbI E \n"
     ]
    }
   ],
   "source": [
    "Rodichi=KotbI_v_korobke()\n",
    "Rodichi.append('E',1995)\n",
    "Rodichi.append('Mi',1993)\n",
    "Rodichi.append('Ti',1991)\n",
    "Rodichi.append('Ko',1990)\n",
    "Rodichi.append('Ki -',1992)\n",
    "Rodichi.append('LbI',1994)\n",
    "Rodichi.print_kotiki(0)\n",
    "Rodichi.sort()\n",
    "print()\n",
    "Rodichi.print_kotiki(3)"
   ]
  },
  {
   "cell_type": "code",
   "execution_count": 175,
   "id": "3c21fa9f",
   "metadata": {},
   "outputs": [
    {
     "name": "stdout",
     "output_type": "stream",
     "text": [
      "0\n"
     ]
    }
   ],
   "source": [
    "print((len(my_data[0])+len(my_data[1])) * len (family_names) % 4)"
   ]
  },
  {
   "cell_type": "code",
   "execution_count": 27,
   "id": "07d4fdb6",
   "metadata": {},
   "outputs": [],
   "source": [
    "period=[]\n",
    "kolco=0\n",
    "def Аликвотная_Последовательность(first):\n",
    "    global period\n",
    "    global kolco\n",
    "    if (first==0):\n",
    "        print()\n",
    "        period.clear()\n",
    "        return(0)\n",
    "    temp=0\n",
    "    for i in range(1,first//2+1):\n",
    "        if (first%i==0):\n",
    "            temp+=i\n",
    "    print(temp,end=' ')\n",
    "    period.append(first)\n",
    "    kolco=first\n",
    "    if (temp==kolco):\n",
    "        print('...')\n",
    "        period.clear()\n",
    "        return(0)\n",
    "    for i in range (0,len(period)):\n",
    "        if (temp==period[i]) or (temp==kolco):\n",
    "            print('...')\n",
    "            period.clear()\n",
    "            return(0)\n",
    "    Аликвотная_Последовательность(temp)"
   ]
  },
  {
   "cell_type": "code",
   "execution_count": 28,
   "id": "8419c4f0",
   "metadata": {},
   "outputs": [
    {
     "name": "stdout",
     "output_type": "stream",
     "text": [
      "8 7 1 0 \n",
      "1 0 \n",
      "2172 2924 2620 2924 ...\n",
      "25 6 6 ...\n",
      "6 6 ...\n"
     ]
    }
   ],
   "source": [
    "Аликвотная_Последовательность(10)\n",
    "Аликвотная_Последовательность(11)\n",
    "Аликвотная_Последовательность(1188)\n",
    "Аликвотная_Последовательность(95)\n",
    "Аликвотная_Последовательность(25)"
   ]
  }
 ],
 "metadata": {
  "kernelspec": {
   "display_name": "Python 3 (ipykernel)",
   "language": "python",
   "name": "python3"
  },
  "language_info": {
   "codemirror_mode": {
    "name": "ipython",
    "version": 3
   },
   "file_extension": ".py",
   "mimetype": "text/x-python",
   "name": "python",
   "nbconvert_exporter": "python",
   "pygments_lexer": "ipython3",
   "version": "3.9.13"
  }
 },
 "nbformat": 4,
 "nbformat_minor": 5
}
