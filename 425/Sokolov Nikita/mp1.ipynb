{
 "cells": [
  {
   "cell_type": "code",
   "execution_count": 1,
   "id": "cb5ef08b",
   "metadata": {},
   "outputs": [],
   "source": [
    "import numpy as np\n",
    "import matplotlib as mp\n",
    "from datetime import datetime\n",
    "import queue"
   ]
  },
  {
   "cell_type": "code",
   "execution_count": 2,
   "id": "6f36da58",
   "metadata": {},
   "outputs": [],
   "source": [
    "\n",
    "my_data = (\"Sokolov Nikita Yurievich\", 1, 10, 2003)\n",
    "\n",
    "attestat = {\"Русский\":4,\n",
    "            \"Математика\":4,\n",
    "            \"История\":4,\n",
    "            \"Литература\":4,\n",
    "            \"Биология\":4,\n",
    "            \"Физкультура\":5,\n",
    "            \"Экономика\":4,\n",
    "            \"Обществознание\":5,\n",
    "            \"Английский\":4,\n",
    "            \"Информатика\":4,\n",
    "            \"Астрономия\":5,\n",
    "            \"Технология\":4,\n",
    "            \"Химия\":4,\n",
    "            \"Физика\":4,\n",
    "            \"География\":4}\n",
    "\n",
    "family = [\"Yuri 1980\", \"Ekaterina 1982\", \"Alex 2011\", \"Andrey 2016\"]\n",
    "\n",
    "name_kivi = \"Sam\""
   ]
  },
  {
   "cell_type": "code",
   "execution_count": 3,
   "id": "63f88719",
   "metadata": {},
   "outputs": [
    {
     "name": "stdout",
     "output_type": "stream",
     "text": [
      "Средняя оценка: 4.2\n"
     ]
    }
   ],
   "source": [
    "#№1\n",
    "\n",
    "sum = 0\n",
    "count = 0\n",
    "for x,y in attestat.items():\n",
    "    sum += y\n",
    "    count += 1\n",
    "srednia = sum/count\n",
    "print(\"Средняя оценка:\", srednia)"
   ]
  },
  {
   "cell_type": "code",
   "execution_count": 4,
   "id": "5b6e09c5",
   "metadata": {},
   "outputs": [
    {
     "name": "stdout",
     "output_type": "stream",
     "text": [
      "Имена родственников: Ekaterina, Andrey, Nikita, Yuri, Alex\n",
      "\n"
     ]
    }
   ],
   "source": [
    "#№2\n",
    "name = set()\n",
    "name.add(my_data[0].split()[1])\n",
    "for i in family:\n",
    "    name.add(i.split()[0])\n",
    "print(f\"Имена родственников: {', '.join(name)}\\n\")"
   ]
  },
  {
   "cell_type": "code",
   "execution_count": 5,
   "id": "3474f2b2",
   "metadata": {},
   "outputs": [
    {
     "name": "stdout",
     "output_type": "stream",
     "text": [
      "Длина названий всех предметов: 137\n"
     ]
    }
   ],
   "source": [
    "#№3\n",
    "l = 0\n",
    "for i in attestat.keys():\n",
    "    l += len(i)\n",
    "print(\"Длина названий всех предметов:\",l)"
   ]
  },
  {
   "cell_type": "code",
   "execution_count": 6,
   "id": "a66284f2",
   "metadata": {},
   "outputs": [
    {
     "name": "stdout",
     "output_type": "stream",
     "text": [
      "Уникальные буквы: ['Г', 'а', 'г', 'е', 'и', 'о', 'р', 'ф', 'я']\n"
     ]
    }
   ],
   "source": [
    "#№4\n",
    "ub = list(sorted({ele for val in i for ele in val}))\n",
    "print(\"Уникальные буквы: \" + str(ub))"
   ]
  },
  {
   "cell_type": "code",
   "execution_count": 7,
   "id": "0878c3de",
   "metadata": {},
   "outputs": [
    {
     "name": "stdout",
     "output_type": "stream",
     "text": [
      "Имя питомца в бинарном виде: 1010011 1100001 1101101\n"
     ]
    }
   ],
   "source": [
    "#№5\n",
    "n = ' '.join(format(ord(x), 'b') for x in name_kivi)\n",
    "print(\"Имя питомца в бинарном виде:\", n)"
   ]
  },
  {
   "cell_type": "code",
   "execution_count": 8,
   "id": "1ad5a9dd",
   "metadata": {},
   "outputs": [
    {
     "name": "stdout",
     "output_type": "stream",
     "text": [
      "Отсортированный по алфавиту список родственников(в обратном порядке): ['Yuri', 'Nikita', 'Ekaterina', 'Andrey', 'Alex']\n"
     ]
    }
   ],
   "source": [
    "#№6\n",
    "v = sorted(name, reverse=True)\n",
    "print(\"Отсортированный по алфавиту список родственников(в обратном порядке):\",v)"
   ]
  },
  {
   "cell_type": "code",
   "execution_count": 9,
   "id": "4346bb7d",
   "metadata": {},
   "outputs": [
    {
     "name": "stdout",
     "output_type": "stream",
     "text": [
      "Количество дней от даты моего рождения до текущей даты: 7181 days, 18:06:40.393425\n"
     ]
    }
   ],
   "source": [
    "#№7\n",
    "import datetime\n",
    "now = datetime.datetime.now()\n",
    "data_birth= datetime.datetime(my_data[3], my_data[2], my_data[1])\n",
    "time = now - data_birth\n",
    "print(\"Количество дней от даты моего рождения до текущей даты:\",time)"
   ]
  },
  {
   "cell_type": "code",
   "execution_count": 12,
   "id": "732fb339",
   "metadata": {},
   "outputs": [
    {
     "ename": "KeyboardInterrupt",
     "evalue": "Interrupted by user",
     "output_type": "error",
     "traceback": [
      "\u001b[1;31m---------------------------------------------------------------------------\u001b[0m",
      "\u001b[1;31mKeyboardInterrupt\u001b[0m                         Traceback (most recent call last)",
      "\u001b[1;32m~\\AppData\\Local\\Temp\\ipykernel_4400\\1654396428.py\u001b[0m in \u001b[0;36m<module>\u001b[1;34m\u001b[0m\n\u001b[0;32m      1\u001b[0m \u001b[1;31m#№8\u001b[0m\u001b[1;33m\u001b[0m\u001b[1;33m\u001b[0m\u001b[0m\n\u001b[1;32m----> 2\u001b[1;33m \u001b[0msp\u001b[0m \u001b[1;33m=\u001b[0m \u001b[0mstr\u001b[0m\u001b[1;33m(\u001b[0m\u001b[0minput\u001b[0m\u001b[1;33m(\u001b[0m\u001b[1;34m\"Введите слово(для остановки введите 's'):\\n\"\u001b[0m\u001b[1;33m)\u001b[0m\u001b[1;33m)\u001b[0m\u001b[1;33m\u001b[0m\u001b[1;33m\u001b[0m\u001b[0m\n\u001b[0m\u001b[0;32m      3\u001b[0m \u001b[0msp1\u001b[0m \u001b[1;33m=\u001b[0m \u001b[1;33m[\u001b[0m\u001b[1;33m]\u001b[0m\u001b[1;33m\u001b[0m\u001b[1;33m\u001b[0m\u001b[0m\n\u001b[0;32m      4\u001b[0m \u001b[1;32mwhile\u001b[0m \u001b[0msp\u001b[0m \u001b[1;33m!=\u001b[0m \u001b[1;34m\"s\"\u001b[0m\u001b[1;33m:\u001b[0m\u001b[1;33m\u001b[0m\u001b[1;33m\u001b[0m\u001b[0m\n\u001b[0;32m      5\u001b[0m     \u001b[0msp1\u001b[0m\u001b[1;33m.\u001b[0m\u001b[0mappend\u001b[0m\u001b[1;33m(\u001b[0m\u001b[0msp\u001b[0m\u001b[1;33m)\u001b[0m\u001b[1;33m\u001b[0m\u001b[1;33m\u001b[0m\u001b[0m\n",
      "\u001b[1;32m~\\anaconda3\\lib\\site-packages\\ipykernel\\kernelbase.py\u001b[0m in \u001b[0;36mraw_input\u001b[1;34m(self, prompt)\u001b[0m\n\u001b[0;32m   1175\u001b[0m                 \u001b[1;34m\"raw_input was called, but this frontend does not support input requests.\"\u001b[0m\u001b[1;33m\u001b[0m\u001b[1;33m\u001b[0m\u001b[0m\n\u001b[0;32m   1176\u001b[0m             )\n\u001b[1;32m-> 1177\u001b[1;33m         return self._input_request(\n\u001b[0m\u001b[0;32m   1178\u001b[0m             \u001b[0mstr\u001b[0m\u001b[1;33m(\u001b[0m\u001b[0mprompt\u001b[0m\u001b[1;33m)\u001b[0m\u001b[1;33m,\u001b[0m\u001b[1;33m\u001b[0m\u001b[1;33m\u001b[0m\u001b[0m\n\u001b[0;32m   1179\u001b[0m             \u001b[0mself\u001b[0m\u001b[1;33m.\u001b[0m\u001b[0m_parent_ident\u001b[0m\u001b[1;33m[\u001b[0m\u001b[1;34m\"shell\"\u001b[0m\u001b[1;33m]\u001b[0m\u001b[1;33m,\u001b[0m\u001b[1;33m\u001b[0m\u001b[1;33m\u001b[0m\u001b[0m\n",
      "\u001b[1;32m~\\anaconda3\\lib\\site-packages\\ipykernel\\kernelbase.py\u001b[0m in \u001b[0;36m_input_request\u001b[1;34m(self, prompt, ident, parent, password)\u001b[0m\n\u001b[0;32m   1217\u001b[0m             \u001b[1;32mexcept\u001b[0m \u001b[0mKeyboardInterrupt\u001b[0m\u001b[1;33m:\u001b[0m\u001b[1;33m\u001b[0m\u001b[1;33m\u001b[0m\u001b[0m\n\u001b[0;32m   1218\u001b[0m                 \u001b[1;31m# re-raise KeyboardInterrupt, to truncate traceback\u001b[0m\u001b[1;33m\u001b[0m\u001b[1;33m\u001b[0m\u001b[0m\n\u001b[1;32m-> 1219\u001b[1;33m                 \u001b[1;32mraise\u001b[0m \u001b[0mKeyboardInterrupt\u001b[0m\u001b[1;33m(\u001b[0m\u001b[1;34m\"Interrupted by user\"\u001b[0m\u001b[1;33m)\u001b[0m \u001b[1;32mfrom\u001b[0m \u001b[1;32mNone\u001b[0m\u001b[1;33m\u001b[0m\u001b[1;33m\u001b[0m\u001b[0m\n\u001b[0m\u001b[0;32m   1220\u001b[0m             \u001b[1;32mexcept\u001b[0m \u001b[0mException\u001b[0m\u001b[1;33m:\u001b[0m\u001b[1;33m\u001b[0m\u001b[1;33m\u001b[0m\u001b[0m\n\u001b[0;32m   1221\u001b[0m                 \u001b[0mself\u001b[0m\u001b[1;33m.\u001b[0m\u001b[0mlog\u001b[0m\u001b[1;33m.\u001b[0m\u001b[0mwarning\u001b[0m\u001b[1;33m(\u001b[0m\u001b[1;34m\"Invalid Message:\"\u001b[0m\u001b[1;33m,\u001b[0m \u001b[0mexc_info\u001b[0m\u001b[1;33m=\u001b[0m\u001b[1;32mTrue\u001b[0m\u001b[1;33m)\u001b[0m\u001b[1;33m\u001b[0m\u001b[1;33m\u001b[0m\u001b[0m\n",
      "\u001b[1;31mKeyboardInterrupt\u001b[0m: Interrupted by user"
     ]
    }
   ],
   "source": [
    "#№8\n",
    "sp = str(input(\"Введите слово(для остановки введите 's'):\\n\"))\n",
    "sp1 = []\n",
    "while sp != \"s\":\n",
    "    sp1.append(sp)\n",
    "    sp = input()\n",
    "print(sp)"
   ]
  },
  {
   "cell_type": "code",
   "execution_count": 11,
   "id": "4fa7e27c",
   "metadata": {},
   "outputs": [
    {
     "name": "stdout",
     "output_type": "stream",
     "text": [
      "Введите индекс от 1 до 7:2\n",
      "['Ekaterina', 'Xīhuitl Tēmoc', 'Nikita', 'Yuri', 'Alex']\n"
     ]
    }
   ],
   "source": [
    "#№9\n",
    "name2 = []  \n",
    "for i in name: \n",
    "    name2.append(i)\n",
    "\n",
    "A = ['Tenōch','Ācamāpichtli','Huītzilihhuitl','Chīmalpopōca','Xīhuitl Tēmoc','Itzcōhuātl','Motēuczōma Ilhuicamīna','Atotoztli','Āxāyacatl','Tīzocic','Āhuitzotl','Motēuczōma Xōcoyōtl','Cuitlāhuac','Cuāuhtēmoc','Tlacotzin',\n",
    "       'Motelchiuhtzin', 'Xochiquentzin','Huanitzin','Tehuetzquititzin','Cecetzin','Cipac']\n",
    "\n",
    "j = (my_data[1] + my_data[2]**2 + my_data[3]) % 21 + 1;\n",
    "g = int(input(\"Введите индекс от 1 до 7:\"))\n",
    "for i in name2:\n",
    "    if g > 7 or g < 0:\n",
    "        print(\"Вы ввели индекс, который больше количества имён!\")\n",
    "        break\n",
    "    else:\n",
    "        name2[g - 1] = A[j - 1]\n",
    "print(name2)"
   ]
  },
  {
   "cell_type": "code",
   "execution_count": 20,
   "id": "0204f71b",
   "metadata": {},
   "outputs": [
    {
     "name": "stdout",
     "output_type": "stream",
     "text": [
      "{'Yuri 1980': 1, 'Ekaterina 1982': 2, 'Alex 2011': 3, 'Andrey 2016': 6}\n"
     ]
    }
   ],
   "source": [
    "#№10\n",
    "family2 = sorted(family, key=lambda x: int(x.split()[1]))\n",
    "familyg = {}\n",
    "for i in range(len(family2)):\n",
    "    if i == len(family2)-1:\n",
    "        familyg[family2[i]] = 6\n",
    "    else:\n",
    "        familyg[family2[i]] = i+1\n",
    "print(familyg)"
   ]
  },
  {
   "cell_type": "code",
   "execution_count": 14,
   "id": "ba32f972",
   "metadata": {},
   "outputs": [
    {
     "name": "stdout",
     "output_type": "stream",
     "text": [
      "0 -Номер, получившийся по формуле - Последовательность Сильвестра:\n",
      "2\n",
      "3\n",
      "7\n",
      "43\n",
      "1807\n",
      "3263443\n",
      "10650056950807\n",
      "113423713055421844361000443\n",
      "12864938683278671740537145998360961546653259485195807\n",
      "0\n"
     ]
    }
   ],
   "source": [
    "#11\n",
    "numberr=len(my_data[0]) * len (family) % 4\n",
    "print(numberr,'-Номер, получившийся по формуле - Последовательность Сильвестра:')\n",
    "def gen(N):\n",
    "    c=1\n",
    "    a=1\n",
    "    while c!=10:\n",
    "        c+=1\n",
    "        yield a+1\n",
    "        a+=1\n",
    "        a=a*(a-1)\n",
    "N=10\n",
    "for b in gen(N):\n",
    "    print(b)\n",
    "print(numberr)"
   ]
  }
 ],
 "metadata": {
  "kernelspec": {
   "display_name": "Python 3 (ipykernel)",
   "language": "python",
   "name": "python3"
  },
  "language_info": {
   "codemirror_mode": {
    "name": "ipython",
    "version": 3
   },
   "file_extension": ".py",
   "mimetype": "text/x-python",
   "name": "python",
   "nbconvert_exporter": "python",
   "pygments_lexer": "ipython3",
   "version": "3.9.13"
  }
 },
 "nbformat": 4,
 "nbformat_minor": 5
}
